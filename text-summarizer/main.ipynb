{
 "cells": [
  {
   "cell_type": "code",
   "execution_count": 1,
   "metadata": {},
   "outputs": [
    {
     "name": "stderr",
     "output_type": "stream",
     "text": [
      "d:\\Workspaces\\ai-practice\\text-summarizer\\.venv\\Lib\\site-packages\\tqdm\\auto.py:21: TqdmWarning: IProgress not found. Please update jupyter and ipywidgets. See https://ipywidgets.readthedocs.io/en/stable/user_install.html\n",
      "  from .autonotebook import tqdm as notebook_tqdm\n"
     ]
    }
   ],
   "source": [
    "from transformers import pipeline"
   ]
  },
  {
   "cell_type": "code",
   "execution_count": 2,
   "metadata": {},
   "outputs": [
    {
     "name": "stderr",
     "output_type": "stream",
     "text": [
      "d:\\Workspaces\\ai-practice\\text-summarizer\\.venv\\Lib\\site-packages\\huggingface_hub\\file_download.py:149: UserWarning: `huggingface_hub` cache-system uses symlinks by default to efficiently store duplicated files but your machine does not support them in C:\\Users\\TSKK2000\\.cache\\huggingface\\hub\\models--facebook--bart-large-cnn. Caching files will still work but in a degraded version that might require more space on your disk. This warning can be disabled by setting the `HF_HUB_DISABLE_SYMLINKS_WARNING` environment variable. For more details, see https://huggingface.co/docs/huggingface_hub/how-to-cache#limitations.\n",
      "To support symlinks on Windows, you either need to activate Developer Mode or to run Python as an administrator. In order to see activate developer mode, see this article: https://docs.microsoft.com/en-us/windows/apps/get-started/enable-your-device-for-development\n",
      "  warnings.warn(message)\n"
     ]
    }
   ],
   "source": [
    "summarizer = pipeline('summarization', model='facebook/bart-large-cnn')"
   ]
  },
  {
   "cell_type": "code",
   "execution_count": 26,
   "metadata": {},
   "outputs": [
    {
     "name": "stdout",
     "output_type": "stream",
     "text": [
      "This tutorial uses the Hugging Face transformers library. We use an annual report from FDA as input to get our summary. The model will generate a shorter version of the input text, capturing the most important or relevant information.\n"
     ]
    }
   ],
   "source": [
    "text = '''\n",
    "First, you need to set up your coding environment. I prefer to use a Google Collab notebook instead of installing it on your local machine. Here is the notebook for this tutorial.\n",
    "\n",
    "Let’s start by installing the transformer library. Use a ! before the command if you are running it in a collab notebook:\n",
    "\n",
    "pip install transformers\n",
    "Now let’s initialize a text summarization pipeline using the Hugging Face transformers library:\n",
    "\n",
    "summarizer = pipeline(\"summarization\", model=\"facebook/bart-large-cnn\")\n",
    "\n",
    "When this line of code is executed, it creates a summarizer object. This object can then be used to perform text summarization by passing text data to it. The model will generate a shorter version of the input text, capturing the most important or relevant information, according to its training on the summarization task.\n",
    "\n",
    "Now we are ready to use the model to summarize our text (yeah, really!). Let's use an annual report from FDA and use it as input to get our summary.\n",
    "\n",
    "Now let’s use this text as input and call our summarizer:\n",
    "\n",
    "summary = summarizer(text, max_length=150, min_length=40, do_sample=False)\n",
    "\n",
    "Finally, we will print our summary:\n",
    "\n",
    "print(summary[0]['summary_text'])\n",
    "And here is the response:\n",
    "\n",
    "In 2023 generic drugs continued to play a critical role in the U.S. health care system allowing patients greater access to needed medicines. Generic drugs are generally lower cost than their brand-name equivalent and the approval of generic drugs often means multiple manufacturers for generic medicines.\n",
    "'''\n",
    "summary = summarizer(text, max_length=150, min_length=40, do_sample=False)\n",
    "print(summary[0]['summary_text'])"
   ]
  }
 ],
 "metadata": {
  "kernelspec": {
   "display_name": ".venv",
   "language": "python",
   "name": "python3"
  },
  "language_info": {
   "codemirror_mode": {
    "name": "ipython",
    "version": 3
   },
   "file_extension": ".py",
   "mimetype": "text/x-python",
   "name": "python",
   "nbconvert_exporter": "python",
   "pygments_lexer": "ipython3",
   "version": "3.12.2"
  }
 },
 "nbformat": 4,
 "nbformat_minor": 2
}
